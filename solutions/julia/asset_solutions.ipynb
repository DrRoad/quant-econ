{
 "metadata": {
  "language": "Julia",
  "name": "",
  "signature": "sha256:605e569e39fb8c9b64ad2400b9cc29fbfdcedddd811acbe60414932980429edd"
 },
 "nbformat": 3,
 "nbformat_minor": 0,
 "worksheets": [
  {
   "cells": [
    {
     "cell_type": "markdown",
     "metadata": {},
     "source": [
      "# quant-econ Solutions: The Lucas Asset Pricing Model"
     ]
    },
    {
     "cell_type": "markdown",
     "metadata": {},
     "source": [
      "Solutions for http://quant-econ.net/markov_asset.html"
     ]
    },
    {
     "cell_type": "code",
     "collapsed": false,
     "input": [
      "reload(\"../../src/asset_pricing.jl\")\n",
      "using PyPlot"
     ],
     "language": "python",
     "metadata": {},
     "outputs": [
      {
       "output_type": "stream",
       "stream": "stderr",
       "text": [
        "INFO: Loading help data...\n"
       ]
      }
     ],
     "prompt_number": 1
    },
    {
     "cell_type": "markdown",
     "metadata": {},
     "source": [
      "## Exercise 1"
     ]
    },
    {
     "cell_type": "code",
     "collapsed": false,
     "input": [
      "\"\"\"\n",
      "Authors: David Evans, Spencer Lyon, John Stachurski and Thomas J. Sargent\n",
      "\"\"\"\n",
      "\n",
      "# == Define primitives == #\n",
      "n = 5\n",
      "P = 0.0125 .* ones(n, n) \n",
      "P .+= diagm(0.95 .- 0.0125 .* ones(5))\n",
      "s = [1.05, 1.025, 1.0, 0.975, 0.95]\n",
      "gamm = 2.0\n",
      "bet = 0.94\n",
      "zet = 1.0\n",
      "ap = AssetPrices(bet, P, s, gamm)\n",
      "\n",
      "v = tree_price(ap)\n",
      "println(\"Lucas Tree Prices: $v\")\n",
      "\n",
      "v_consol = consol_price(ap, 1.0)\n",
      "println(\"Consol Bond Prices: $(v_consol)\")\n",
      "\n",
      "P_tilde = P .* s'.^(1-gamm)\n",
      "temp = bet .* (P_tilde * v) + bet * (P_tilde * ones(n))\n",
      "println(\"Should be 0: $(temp - v)\")\n",
      "\n",
      "p_s = 150.0\n",
      "w_bar, w_bars = call_option(ap, zet, p_s, [10, 20, 30])"
     ],
     "language": "python",
     "metadata": {},
     "outputs": [
      {
       "output_type": "stream",
       "stream": "stdout",
       "text": [
        "Lucas Tree Prices: [12.722217630644252,14.725150017725886,17.571422357262904,21.935706611219704,29.474015777145]\n"
       ]
      },
      {
       "output_type": "stream",
       "stream": "stdout",
       "text": [
        "Consol Bond Prices: [87.5686013853112,109.25108965024711,148.67554548466478,242.55144081989457,753.8710047641986]\n",
        "Should be 0: [1.7763568394002505e-15,1.7763568394002505e-15,0.0,0.0,0.0]\n"
       ]
      },
      {
       "metadata": {},
       "output_type": "pyout",
       "prompt_number": 2,
       "text": [
        "([64.3084,80.0518,108.677,176.839,603.871],[30=>[60.6265,74.6761,98.3839,153.805,603.871],10=>[44.7982,50.8141,58.6139,115.698,603.871],20=>[56.7336,68.5191,86.6904,138.46,603.871]])"
       ]
      }
     ],
     "prompt_number": 2
    },
    {
     "cell_type": "markdown",
     "metadata": {},
     "source": [
      "## Exercise 2"
     ]
    },
    {
     "cell_type": "code",
     "collapsed": false,
     "input": [],
     "language": "python",
     "metadata": {},
     "outputs": []
    }
   ],
   "metadata": {}
  }
 ]
}